{
 "metadata": {
  "language_info": {
   "codemirror_mode": {
    "name": "ipython",
    "version": 3
   },
   "file_extension": ".py",
   "mimetype": "text/x-python",
   "name": "python",
   "nbconvert_exporter": "python",
   "pygments_lexer": "ipython3",
   "version": "3.9.4"
  },
  "orig_nbformat": 2,
  "kernelspec": {
   "name": "python394jvsc74a57bd053a50610caedce9c6f140074777bc63040a5d31c71e498892043b85252773a44",
   "display_name": "Python 3.9.4 64-bit ('bits-py-env': conda)"
  },
  "metadata": {
   "interpreter": {
    "hash": "53a50610caedce9c6f140074777bc63040a5d31c71e498892043b85252773a44"
   }
  }
 },
 "nbformat": 4,
 "nbformat_minor": 2,
 "cells": [
  {
   "source": [
    "# Gauss elimination method without partial pivoting\n",
    "\n",
    "Ax = b"
   ],
   "cell_type": "markdown",
   "metadata": {}
  },
  {
   "cell_type": "code",
   "execution_count": 1,
   "metadata": {},
   "outputs": [],
   "source": [
    "import pandas as pd\n",
    "import numpy as np\n",
    "import math"
   ]
  },
  {
   "cell_type": "code",
   "execution_count": 2,
   "metadata": {},
   "outputs": [],
   "source": [
    "# n\n",
    "matrix_num_row = 2\n",
    "matrix_num_cols = 2"
   ]
  },
  {
   "source": [
    "## User Input for significant digit"
   ],
   "cell_type": "markdown",
   "metadata": {}
  },
  {
   "cell_type": "code",
   "execution_count": 3,
   "metadata": {},
   "outputs": [
    {
     "output_type": "stream",
     "name": "stdout",
     "text": [
      "significant digits from user input is 2\n"
     ]
    }
   ],
   "source": [
    "#TODO significant_digits = int(input(f\"significant_digits = \"))\n",
    "significant_digits = int(input(f\"enter significant digit for calculation\"))\n",
    "print(f\"significant digits from user input is {significant_digits}\")"
   ]
  },
  {
   "cell_type": "code",
   "execution_count": 4,
   "metadata": {},
   "outputs": [],
   "source": [
    "round_to_sig_digits = lambda x: round(x, significant_digits - int(math.floor(math.log10(abs(x)))) - 1) if x != 0 else 0\n",
    "v_round_to_sig_digits = np.vectorize(round_to_sig_digits)"
   ]
  },
  {
   "source": [
    "## Generate a random 2x2 matrix"
   ],
   "cell_type": "markdown",
   "metadata": {}
  },
  {
   "cell_type": "code",
   "execution_count": 5,
   "metadata": {},
   "outputs": [
    {
     "output_type": "execute_result",
     "data": {
      "text/plain": [
       "array([[ 2.4,  1.2],\n",
       "       [-2. ,  1.1]])"
      ]
     },
     "metadata": {},
     "execution_count": 5
    }
   ],
   "source": [
    "# rand_matrix = np.random.randint(10,90,(matrix_num_row, matrix_num_cols))\n",
    "matrix = significant_digits * np.random.randn(matrix_num_row, matrix_num_cols)\n",
    "matrix = v_round_to_sig_digits(matrix)\n",
    "matrix"
   ]
  },
  {
   "cell_type": "code",
   "execution_count": 6,
   "metadata": {},
   "outputs": [
    {
     "output_type": "execute_result",
     "data": {
      "text/plain": [
       "array([[-0.78],\n",
       "       [-0.8 ]])"
      ]
     },
     "metadata": {},
     "execution_count": 6
    }
   ],
   "source": [
    "b = significant_digits * np.random.randn(matrix_num_row, 1)\n",
    "#rand_b = np.random.randint(1, 20, (matrix_num_row, 1))\n",
    "b = v_round_to_sig_digits(b)\n",
    "b"
   ]
  },
  {
   "source": [
    "## Partial Pivoting, to ensure correctness in the solution"
   ],
   "cell_type": "markdown",
   "metadata": {}
  },
  {
   "cell_type": "code",
   "execution_count": 7,
   "metadata": {},
   "outputs": [
    {
     "output_type": "stream",
     "name": "stdout",
     "text": [
      "partial pivoting is not required\n[[ 2.4  1.2]\n [-2.   1.1]]\n[[-0.78]\n [-0.8 ]]\n"
     ]
    }
   ],
   "source": [
    "if abs(matrix[0][0]) < abs(matrix[1][0]): # swap rows\n",
    "    print(\"partial pivoting is required\")\n",
    "    matrix[[0,1]] = matrix[[1,0]]\n",
    "    b[[0,1]] = b[[1,0]]\n",
    "else:\n",
    "    print(\"partial pivoting is not required\")\n",
    "\n",
    "print(matrix)\n",
    "print(b)\n"
   ]
  },
  {
   "source": [
    "## REF Calculation"
   ],
   "cell_type": "markdown",
   "metadata": {}
  },
  {
   "cell_type": "code",
   "execution_count": 8,
   "metadata": {},
   "outputs": [
    {
     "output_type": "stream",
     "name": "stdout",
     "text": [
      "-0.8333333333333334\n"
     ]
    }
   ],
   "source": [
    "# DO this until REF is reached\n",
    "for i in range(0, matrix_num_row - 1):\n",
    "    m = matrix[i+1][i] / matrix[i][i] #TODO roundoff, consistent matrix\n",
    "    print(m)\n",
    "    matrix[i+1][i] = matrix[i+1][i] - (m * matrix[i][i])\n",
    "    matrix[i+1][i+1] = matrix[i+1][i+1] - (m * matrix[i][i+1]) # operating the 2nd col\n",
    "    b[i+1] = b[i+1] - m * b[i]"
   ]
  },
  {
   "cell_type": "code",
   "execution_count": 9,
   "metadata": {},
   "outputs": [
    {
     "output_type": "execute_result",
     "data": {
      "text/plain": [
       "array([[2.4, 1.2],\n",
       "       [0. , 2.1]])"
      ]
     },
     "metadata": {},
     "execution_count": 9
    }
   ],
   "source": [
    "matrix"
   ]
  },
  {
   "cell_type": "code",
   "execution_count": 10,
   "metadata": {},
   "outputs": [
    {
     "output_type": "execute_result",
     "data": {
      "text/plain": [
       "array([[2.4, 1.2],\n",
       "       [0. , 2.1]])"
      ]
     },
     "metadata": {},
     "execution_count": 10
    }
   ],
   "source": [
    "matrix = v_round_to_sig_digits(matrix)\n",
    "matrix"
   ]
  },
  {
   "cell_type": "code",
   "execution_count": 11,
   "metadata": {},
   "outputs": [
    {
     "output_type": "execute_result",
     "data": {
      "text/plain": [
       "array([[-0.78],\n",
       "       [-1.5 ]])"
      ]
     },
     "metadata": {},
     "execution_count": 11
    }
   ],
   "source": [
    "b = v_round_to_sig_digits(b)\n",
    "b"
   ]
  },
  {
   "source": [
    "## Back Substitution"
   ],
   "cell_type": "markdown",
   "metadata": {}
  },
  {
   "cell_type": "code",
   "execution_count": 12,
   "metadata": {},
   "outputs": [],
   "source": [
    "x = np.zeros(matrix_num_row)\n",
    "for i in range(matrix_num_row - 1, -1, -1):\n",
    "        x[i] = (b[i] - np.dot(matrix[i,i+1:],x[i+1:]))/matrix[i,i]\n",
    "x = v_round_to_sig_digits(x) #considering only significant digits"
   ]
  },
  {
   "source": [
    "## Solution for X1 and X2"
   ],
   "cell_type": "markdown",
   "metadata": {}
  },
  {
   "cell_type": "code",
   "execution_count": 13,
   "metadata": {},
   "outputs": [
    {
     "output_type": "execute_result",
     "data": {
      "text/plain": [
       "array([ 0.032, -0.71 ])"
      ]
     },
     "metadata": {},
     "execution_count": 13
    }
   ],
   "source": [
    "x\n"
   ]
  },
  {
   "cell_type": "code",
   "execution_count": 17,
   "metadata": {},
   "outputs": [],
   "source": [
    "df = pd.DataFrame(data = x, index = ['x1', 'x2'], columns=['solution'])"
   ]
  },
  {
   "cell_type": "code",
   "execution_count": 18,
   "metadata": {},
   "outputs": [
    {
     "output_type": "execute_result",
     "data": {
      "text/plain": [
       "    solution\n",
       "x1     0.032\n",
       "x2    -0.710"
      ],
      "text/html": "<div>\n<style scoped>\n    .dataframe tbody tr th:only-of-type {\n        vertical-align: middle;\n    }\n\n    .dataframe tbody tr th {\n        vertical-align: top;\n    }\n\n    .dataframe thead th {\n        text-align: right;\n    }\n</style>\n<table border=\"1\" class=\"dataframe\">\n  <thead>\n    <tr style=\"text-align: right;\">\n      <th></th>\n      <th>solution</th>\n    </tr>\n  </thead>\n  <tbody>\n    <tr>\n      <th>x1</th>\n      <td>0.032</td>\n    </tr>\n    <tr>\n      <th>x2</th>\n      <td>-0.710</td>\n    </tr>\n  </tbody>\n</table>\n</div>"
     },
     "metadata": {},
     "execution_count": 18
    }
   ],
   "source": [
    "df"
   ]
  },
  {
   "cell_type": "code",
   "execution_count": null,
   "metadata": {},
   "outputs": [],
   "source": []
  }
 ]
}