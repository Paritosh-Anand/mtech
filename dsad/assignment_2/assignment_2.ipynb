{
 "cells": [
  {
   "cell_type": "code",
   "execution_count": 15,
   "source": [
    "inputfile='inputPS13.txt'\n",
    "\n",
    "try:\n",
    "    file = open(inputfile, \"r\")\n",
    "except IOError as e:\n",
    "    raise(\"****Please provide input file ****\\n\", e)\n",
    "\n",
    "input_file = file.readlines()\n",
    "\n",
    "replace_chars = {\" \": \"\", \"{\": \"[\", \"}\": \"]\"}\n",
    "\n",
    "input_file = list(map(lambda str: str.strip(), input_file))\n",
    "\n",
    "for b_find, b_replace in replace_chars.items():\n",
    "    input_file = list(map(lambda str: str.replace(b_find, b_replace), input_file))\n",
    "\n",
    "input_file"
   ],
   "outputs": [
    {
     "output_type": "execute_result",
     "data": {
      "text/plain": [
       "['N=4', 'a=[10,30,5,60]']"
      ]
     },
     "metadata": {},
     "execution_count": 15
    }
   ],
   "metadata": {}
  },
  {
   "cell_type": "code",
   "execution_count": 16,
   "source": [
    "for instruction in input_file:\n",
    "    exec(instruction)"
   ],
   "outputs": [],
   "metadata": {}
  },
  {
   "cell_type": "code",
   "execution_count": 17,
   "source": [
    "print(a, N)\n",
    "print(type(a))\n",
    "len(a) == int(N)"
   ],
   "outputs": [
    {
     "output_type": "stream",
     "name": "stdout",
     "text": [
      "[10, 30, 5, 60] 4\n",
      "<class 'list'>\n"
     ]
    },
    {
     "output_type": "execute_result",
     "data": {
      "text/plain": [
       "True"
      ]
     },
     "metadata": {},
     "execution_count": 17
    }
   ],
   "metadata": {}
  },
  {
   "cell_type": "code",
   "execution_count": 18,
   "source": [
    "# Function for matrix chain multiplication\n",
    "def matrixChainMemoised(dimension_array, i, j):\n",
    "    print(f\"START >> i={i}, j={j}\")\n",
    "    if(i == j):\n",
    "        return 0\n",
    "        \n",
    "    if(COST_MATRIX[i][j] != -1):\n",
    "        print(\"i={i}, j={j}\")\n",
    "        return COST_MATRIX[i][j]\n",
    "\n",
    "    COST_MATRIX[i][j] = float('inf')\n",
    "\n",
    "    for k in range(i,j):\n",
    "        print(f\"k={k}, i={i}, j={j}\")\n",
    "        COST_MATRIX[i][j] = min(\n",
    "            COST_MATRIX[i][j], \n",
    "            matrixChainMemoised(dimension_array, i, k) + matrixChainMemoised(dimension_array, k + 1, j) + dimension_array[i - 1] * dimension_array[k] * dimension_array[j]\n",
    "        )\n",
    "    \n",
    "    print(f\"i={i}, j={j}, COST_MATRIX[{i}][{j}]={COST_MATRIX[i][j]}\")\n",
    "    return COST_MATRIX[i][j]"
   ],
   "outputs": [],
   "metadata": {}
  },
  {
   "cell_type": "code",
   "execution_count": 19,
   "source": [
    "COST_MATRIX = [[-1 for x in range(N - 1)] for x in range(N - 1)]\n",
    "COST_MATRIX"
   ],
   "outputs": [
    {
     "output_type": "execute_result",
     "data": {
      "text/plain": [
       "[[-1, -1, -1], [-1, -1, -1], [-1, -1, -1]]"
      ]
     },
     "metadata": {},
     "execution_count": 19
    }
   ],
   "metadata": {}
  },
  {
   "cell_type": "code",
   "execution_count": 20,
   "source": [
    "matrixChainMemoised(a, 0, int(N) - 2)"
   ],
   "outputs": [
    {
     "output_type": "stream",
     "name": "stdout",
     "text": [
      "START >> i=0, j=2\n",
      "k=0, i=0, j=2\n",
      "START >> i=0, j=0\n",
      "START >> i=1, j=2\n",
      "k=1, i=1, j=2\n",
      "START >> i=1, j=1\n",
      "START >> i=2, j=2\n",
      "i=1, j=2, COST_MATRIX[1][2]=1500\n",
      "k=1, i=0, j=2\n",
      "START >> i=0, j=1\n",
      "k=0, i=0, j=1\n",
      "START >> i=0, j=0\n",
      "START >> i=1, j=1\n",
      "i=0, j=1, COST_MATRIX[0][1]=18000\n",
      "START >> i=2, j=2\n",
      "i=0, j=2, COST_MATRIX[0][2]=4500\n"
     ]
    },
    {
     "output_type": "execute_result",
     "data": {
      "text/plain": [
       "4500"
      ]
     },
     "metadata": {},
     "execution_count": 20
    }
   ],
   "metadata": {}
  },
  {
   "cell_type": "code",
   "execution_count": 10,
   "source": [
    "COST_MATRIX"
   ],
   "outputs": [
    {
     "output_type": "execute_result",
     "data": {
      "text/plain": [
       "[[-1, 18000, 4500], [-1, -1, 1500], [-1, -1, -1]]"
      ]
     },
     "metadata": {},
     "execution_count": 10
    }
   ],
   "metadata": {}
  },
  {
   "cell_type": "code",
   "execution_count": 11,
   "source": [
    "[\n",
    "    [-1, 18000, 4500], \n",
    "    [-1, -1, 1500], \n",
    "    [-1, -1, -1]\n",
    "]"
   ],
   "outputs": [
    {
     "output_type": "execute_result",
     "data": {
      "text/plain": [
       "[[-1, 18000, 4500], [-1, -1, 1500], [-1, -1, -1]]"
      ]
     },
     "metadata": {},
     "execution_count": 11
    }
   ],
   "metadata": {}
  }
 ],
 "metadata": {
  "orig_nbformat": 4,
  "language_info": {
   "name": "python",
   "version": "3.9.4",
   "mimetype": "text/x-python",
   "codemirror_mode": {
    "name": "ipython",
    "version": 3
   },
   "pygments_lexer": "ipython3",
   "nbconvert_exporter": "python",
   "file_extension": ".py"
  },
  "kernelspec": {
   "name": "python3",
   "display_name": "Python 3.9.4 64-bit ('bits-py-env': conda)"
  },
  "interpreter": {
   "hash": "53a50610caedce9c6f140074777bc63040a5d31c71e498892043b85252773a44"
  }
 },
 "nbformat": 4,
 "nbformat_minor": 2
}